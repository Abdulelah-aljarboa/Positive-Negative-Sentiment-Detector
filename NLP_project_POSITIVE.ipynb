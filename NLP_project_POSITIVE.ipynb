{
  "cells": [
    {
      "attachments": {},
      "cell_type": "markdown",
      "metadata": {
        "id": "BZSMg4yDF0fL"
      },
      "source": [
        "## Import Libraries"
      ]
    },
    {
      "cell_type": "code",
      "execution_count": 1,
      "metadata": {
        "colab": {
          "base_uri": "https://localhost:8080/"
        },
        "execution": {
          "iopub.execute_input": "2022-01-09T10:26:42.466797Z",
          "iopub.status.busy": "2022-01-09T10:26:42.466314Z",
          "iopub.status.idle": "2022-01-09T10:26:49.843174Z",
          "shell.execute_reply": "2022-01-09T10:26:49.842139Z",
          "shell.execute_reply.started": "2022-01-09T10:26:42.466693Z"
        },
        "id": "gmiXyu6UF0fM",
        "outputId": "290a7287-e2cc-4034-8819-5f379144cf27",
        "trusted": true
      },
      "outputs": [
        {
          "name": "stderr",
          "output_type": "stream",
          "text": [
            "[nltk_data] Downloading package wordnet to\n",
            "[nltk_data]     C:\\Users\\abdulelah\\AppData\\Roaming\\nltk_data...\n",
            "[nltk_data]   Package wordnet is already up-to-date!\n",
            "[nltk_data] Downloading package stopwords to\n",
            "[nltk_data]     C:\\Users\\abdulelah\\AppData\\Roaming\\nltk_data...\n",
            "[nltk_data]   Package stopwords is already up-to-date!\n",
            "[nltk_data] Downloading package punkt to\n",
            "[nltk_data]     C:\\Users\\abdulelah\\AppData\\Roaming\\nltk_data...\n",
            "[nltk_data]   Package punkt is already up-to-date!\n",
            "[nltk_data] Downloading package omw-1.4 to\n",
            "[nltk_data]     C:\\Users\\abdulelah\\AppData\\Roaming\\nltk_data...\n",
            "[nltk_data]   Package omw-1.4 is already up-to-date!\n"
          ]
        },
        {
          "data": {
            "text/plain": [
              "True"
            ]
          },
          "execution_count": 1,
          "metadata": {},
          "output_type": "execute_result"
        }
      ],
      "source": [
        "import nltk\n",
        "import numpy as np\n",
        "import pandas as pd\n",
        "from nltk.stem import WordNetLemmatizer\n",
        "from nltk.tokenize import word_tokenize\n",
        "from nltk.corpus import stopwords\n",
        "import re\n",
        "import string\n",
        "import tensorflow\n",
        "from tensorflow.keras.preprocessing.text import Tokenizer\n",
        "from tensorflow.keras.preprocessing.sequence import pad_sequences\n",
        "from tensorflow.keras import layers\n",
        "from keras.callbacks import ModelCheckpoint, EarlyStopping\n",
        "from tensorflow.keras import layers\n",
        "# from keras.callbacks import EarlyStopping\n",
        "from sklearn.model_selection import train_test_split\n",
        "from sklearn.metrics import classification_report\n",
        "from sklearn.metrics import confusion_matrix\n",
        "import matplotlib.pyplot as plt\n",
        "from sklearn import metrics\n",
        "# import os\n",
        "import seaborn as sns\n",
        "import pickle\n",
        "\n",
        "nltk.download(\"wordnet\")\n",
        "nltk.download(\"stopwords\")\n",
        "nltk.download(\"punkt\")\n",
        "nltk.download(\"omw-1.4\")"
      ]
    },
    {
      "cell_type": "code",
      "execution_count": 2,
      "metadata": {
        "execution": {
          "iopub.execute_input": "2022-01-09T10:26:54.438707Z",
          "iopub.status.busy": "2022-01-09T10:26:54.438320Z",
          "iopub.status.idle": "2022-01-09T10:26:54.487553Z",
          "shell.execute_reply": "2022-01-09T10:26:54.486305Z",
          "shell.execute_reply.started": "2022-01-09T10:26:54.438674Z"
        },
        "id": "U73BW3EXF0fN",
        "trusted": true
      },
      "outputs": [],
      "source": [
        "DataSet = pd.read_csv(\"POSITIVE_OR_NEGATIVE.csv\", encoding='utf-8') #Reading the dataset"
      ]
    },
    {
      "cell_type": "code",
      "execution_count": 3,
      "metadata": {
        "colab": {
          "base_uri": "https://localhost:8080/",
          "height": 676
        },
        "id": "pbtxKiTvUiGm",
        "outputId": "f15c9d9f-20f3-4443-8cd6-c0b8308ea02a"
      },
      "outputs": [
        {
          "data": {
            "text/html": [
              "<div>\n",
              "<style scoped>\n",
              "    .dataframe tbody tr th:only-of-type {\n",
              "        vertical-align: middle;\n",
              "    }\n",
              "\n",
              "    .dataframe tbody tr th {\n",
              "        vertical-align: top;\n",
              "    }\n",
              "\n",
              "    .dataframe thead th {\n",
              "        text-align: right;\n",
              "    }\n",
              "</style>\n",
              "<table border=\"1\" class=\"dataframe\">\n",
              "  <thead>\n",
              "    <tr style=\"text-align: right;\">\n",
              "      <th></th>\n",
              "      <th>label</th>\n",
              "      <th>text</th>\n",
              "    </tr>\n",
              "  </thead>\n",
              "  <tbody>\n",
              "    <tr>\n",
              "      <th>0</th>\n",
              "      <td>Positive</td>\n",
              "      <td>ممتاز نوعا ما . النظافة والموقع والتجهيز والشا...</td>\n",
              "    </tr>\n",
              "    <tr>\n",
              "      <th>1</th>\n",
              "      <td>Positive</td>\n",
              "      <td>أحد أسباب نجاح الإمارات أن كل شخص في هذه الدول...</td>\n",
              "    </tr>\n",
              "    <tr>\n",
              "      <th>2</th>\n",
              "      <td>Positive</td>\n",
              "      <td>هادفة .. وقوية. تنقلك من صخب شوارع القاهرة الى...</td>\n",
              "    </tr>\n",
              "    <tr>\n",
              "      <th>3</th>\n",
              "      <td>Positive</td>\n",
              "      <td>خلصنا .. مبدئيا اللي مستني ابهار زي الفيل الاز...</td>\n",
              "    </tr>\n",
              "    <tr>\n",
              "      <th>4</th>\n",
              "      <td>Positive</td>\n",
              "      <td>ياسات جلوريا جزء لا يتجزأ من دبي . فندق متكامل...</td>\n",
              "    </tr>\n",
              "    <tr>\n",
              "      <th>5</th>\n",
              "      <td>Positive</td>\n",
              "      <td>أسلوب الكاتب رائع جدا و عميق جدا، قرأته عدة مر...</td>\n",
              "    </tr>\n",
              "    <tr>\n",
              "      <th>6</th>\n",
              "      <td>Positive</td>\n",
              "      <td>استثنائي. الهدوء في الجناح مع مسبح. عدم وجود ع...</td>\n",
              "    </tr>\n",
              "    <tr>\n",
              "      <th>7</th>\n",
              "      <td>Positive</td>\n",
              "      <td>الكتاب هو السيرة الذاتية للحداثة في المملكة بل...</td>\n",
              "    </tr>\n",
              "    <tr>\n",
              "      <th>8</th>\n",
              "      <td>Positive</td>\n",
              "      <td>من أجمل ما قرأت.. رواية تستحق القراءة فعلا..</td>\n",
              "    </tr>\n",
              "    <tr>\n",
              "      <th>9</th>\n",
              "      <td>Positive</td>\n",
              "      <td>بشكل عام جيده .. . التجاوب جيد جدا من قبل موظف...</td>\n",
              "    </tr>\n",
              "    <tr>\n",
              "      <th>10</th>\n",
              "      <td>Positive</td>\n",
              "      <td>انا بمووووووووووووووت ف حاجة اسمها أدهم صبري. ...</td>\n",
              "    </tr>\n",
              "    <tr>\n",
              "      <th>11</th>\n",
              "      <td>Positive</td>\n",
              "      <td>كالعادة يدهشني د. منذر بأسلوب كتابته .. تسلسل ...</td>\n",
              "    </tr>\n",
              "    <tr>\n",
              "      <th>12</th>\n",
              "      <td>Positive</td>\n",
              "      <td>كتاب حاله فضائيه : . الجنون بعينه. كتاب تنويري...</td>\n",
              "    </tr>\n",
              "    <tr>\n",
              "      <th>13</th>\n",
              "      <td>Positive</td>\n",
              "      <td>استثنائي. . الواي فاي ليس مجانا</td>\n",
              "    </tr>\n",
              "    <tr>\n",
              "      <th>14</th>\n",
              "      <td>Positive</td>\n",
              "      <td>الكتاب من أول صفحة فرق معايا..</td>\n",
              "    </tr>\n",
              "    <tr>\n",
              "      <th>15</th>\n",
              "      <td>Positive</td>\n",
              "      <td>وهذا ما سيحدث معنا</td>\n",
              "    </tr>\n",
              "    <tr>\n",
              "      <th>16</th>\n",
              "      <td>Positive</td>\n",
              "      <td>استثنائي. هدواء المكان وتميز الخدمات. يحتاج ال...</td>\n",
              "    </tr>\n",
              "    <tr>\n",
              "      <th>17</th>\n",
              "      <td>Positive</td>\n",
              "      <td>عندما نفرح ،نظن أن لا نهاية لفرحنآ . و عندمآنح...</td>\n",
              "    </tr>\n",
              "    <tr>\n",
              "      <th>18</th>\n",
              "      <td>Positive</td>\n",
              "      <td>عمان . كل شي. لا يوجد</td>\n",
              "    </tr>\n",
              "    <tr>\n",
              "      <th>19</th>\n",
              "      <td>Positive</td>\n",
              "      <td>لا أقيم الرواية بلغتها الأدبية أبداا . ولا بتم...</td>\n",
              "    </tr>\n",
              "  </tbody>\n",
              "</table>\n",
              "</div>"
            ],
            "text/plain": [
              "       label                                               text\n",
              "0   Positive  ممتاز نوعا ما . النظافة والموقع والتجهيز والشا...\n",
              "1   Positive  أحد أسباب نجاح الإمارات أن كل شخص في هذه الدول...\n",
              "2   Positive  هادفة .. وقوية. تنقلك من صخب شوارع القاهرة الى...\n",
              "3   Positive  خلصنا .. مبدئيا اللي مستني ابهار زي الفيل الاز...\n",
              "4   Positive  ياسات جلوريا جزء لا يتجزأ من دبي . فندق متكامل...\n",
              "5   Positive  أسلوب الكاتب رائع جدا و عميق جدا، قرأته عدة مر...\n",
              "6   Positive  استثنائي. الهدوء في الجناح مع مسبح. عدم وجود ع...\n",
              "7   Positive  الكتاب هو السيرة الذاتية للحداثة في المملكة بل...\n",
              "8   Positive       من أجمل ما قرأت.. رواية تستحق القراءة فعلا..\n",
              "9   Positive  بشكل عام جيده .. . التجاوب جيد جدا من قبل موظف...\n",
              "10  Positive  انا بمووووووووووووووت ف حاجة اسمها أدهم صبري. ...\n",
              "11  Positive  كالعادة يدهشني د. منذر بأسلوب كتابته .. تسلسل ...\n",
              "12  Positive  كتاب حاله فضائيه : . الجنون بعينه. كتاب تنويري...\n",
              "13  Positive                    استثنائي. . الواي فاي ليس مجانا\n",
              "14  Positive                     الكتاب من أول صفحة فرق معايا..\n",
              "15  Positive                                 وهذا ما سيحدث معنا\n",
              "16  Positive  استثنائي. هدواء المكان وتميز الخدمات. يحتاج ال...\n",
              "17  Positive  عندما نفرح ،نظن أن لا نهاية لفرحنآ . و عندمآنح...\n",
              "18  Positive                              عمان . كل شي. لا يوجد\n",
              "19  Positive  لا أقيم الرواية بلغتها الأدبية أبداا . ولا بتم..."
            ]
          },
          "execution_count": 3,
          "metadata": {},
          "output_type": "execute_result"
        }
      ],
      "source": [
        "DataSet.head(20) # this function shows you the number of row that you want from the dataset"
      ]
    },
    {
      "cell_type": "code",
      "execution_count": 4,
      "metadata": {
        "colab": {
          "base_uri": "https://localhost:8080/"
        },
        "execution": {
          "iopub.execute_input": "2022-01-09T10:26:57.067053Z",
          "iopub.status.busy": "2022-01-09T10:26:57.066510Z",
          "iopub.status.idle": "2022-01-09T10:26:57.085401Z",
          "shell.execute_reply": "2022-01-09T10:26:57.084360Z",
          "shell.execute_reply.started": "2022-01-09T10:26:57.067019Z"
        },
        "id": "5Sf_jPUNF0fO",
        "outputId": "76a94fa5-9700-475c-c829-ad1f27f0dd7d",
        "trusted": true
      },
      "outputs": [
        {
          "name": "stdout",
          "output_type": "stream",
          "text": [
            "['Positive' 'Negative']\n"
          ]
        },
        {
          "data": {
            "text/plain": [
              "label\n",
              "Positive    33333\n",
              "Negative    33333\n",
              "Name: count, dtype: int64"
            ]
          },
          "execution_count": 4,
          "metadata": {},
          "output_type": "execute_result"
        }
      ],
      "source": [
        "print(DataSet['label'].unique()) \n",
        "DataSet[\"label\"].value_counts() #Label refers to the attribute name in the dataset"
      ]
    },
    {
      "attachments": {},
      "cell_type": "markdown",
      "metadata": {
        "id": "EZy1xT5OF0fP"
      },
      "source": [
        "## Check Missing Data and Duplicates"
      ]
    },
    {
      "cell_type": "code",
      "execution_count": 5,
      "metadata": {
        "colab": {
          "base_uri": "https://localhost:8080/"
        },
        "execution": {
          "iopub.execute_input": "2022-01-09T10:26:59.412257Z",
          "iopub.status.busy": "2022-01-09T10:26:59.411958Z",
          "iopub.status.idle": "2022-01-09T10:26:59.424600Z",
          "shell.execute_reply": "2022-01-09T10:26:59.423351Z",
          "shell.execute_reply.started": "2022-01-09T10:26:59.412225Z"
        },
        "id": "P11UsnpsF0fP",
        "outputId": "2c3c02f3-0237-43be-f841-8b5eb7891b2f",
        "trusted": true
      },
      "outputs": [
        {
          "name": "stdout",
          "output_type": "stream",
          "text": [
            "label    0\n",
            "text     0\n",
            "dtype: int64\n",
            "\n",
            "\n",
            "Number of duplicates droped:\n",
            "0\n"
          ]
        }
      ],
      "source": [
        "print(DataSet.isnull().sum()) #this show the null varibles in the dataset\n",
        "print(\"\\n\")\n",
        "duplicatesDroped = len(DataSet) - len(DataSet.drop_duplicates())\n",
        "print(\"Number of duplicates droped:\" )\n",
        "print(duplicatesDroped) #this shows numbers of duplicates is the dataset \n",
        "DataSet.drop_duplicates(inplace = True) # this removes any duplicates"
      ]
    },
    {
      "attachments": {},
      "cell_type": "markdown",
      "metadata": {
        "id": "VwR8M_aCF0fQ"
      },
      "source": [
        "## Data Visualization"
      ]
    },
    {
      "cell_type": "code",
      "execution_count": 6,
      "metadata": {
        "colab": {
          "base_uri": "https://localhost:8080/",
          "height": 423
        },
        "execution": {
          "iopub.execute_input": "2022-01-09T10:27:06.398427Z",
          "iopub.status.busy": "2022-01-09T10:27:06.398038Z",
          "iopub.status.idle": "2022-01-09T10:27:06.572436Z",
          "shell.execute_reply": "2022-01-09T10:27:06.571415Z",
          "shell.execute_reply.started": "2022-01-09T10:27:06.398366Z"
        },
        "id": "0pwr7ehFF0fQ",
        "outputId": "79c9a471-5fa1-447d-a2da-2b7ce0faf129",
        "trusted": true
      },
      "outputs": [
        {
          "data": {
            "text/plain": [
              "<Axes: ylabel='count'>"
            ]
          },
          "execution_count": 6,
          "metadata": {},
          "output_type": "execute_result"
        },
        {
          "data": {
            "image/png": "[encoded data removed]",
            "text/plain": [
              "<Figure size 640x480 with 1 Axes>"
            ]
          },
          "metadata": {},
          "output_type": "display_data"
        }
      ],
      "source": [
        "ratio_positive_and_negative = DataSet[\"label\"].value_counts()\n",
        "ratio_positive_and_negative.plot.pie(autopct = '%1.1f%%')"
      ]
    },
    {
      "attachments": {},
      "cell_type": "markdown",
      "metadata": {
        "id": "eiRJigfXF0fR"
      },
      "source": [
        "# Preparing the corpus"
      ]
    },
    {
      "cell_type": "code",
      "execution_count": 7,
      "metadata": {
        "execution": {
          "iopub.execute_input": "2022-01-09T10:27:42.319229Z",
          "iopub.status.busy": "2022-01-09T10:27:42.318929Z",
          "iopub.status.idle": "2022-01-09T10:27:42.327928Z",
          "shell.execute_reply": "2022-01-09T10:27:42.326919Z",
          "shell.execute_reply.started": "2022-01-09T10:27:42.319199Z"
        },
        "id": "ZXkllzdDF0fR",
        "trusted": true
      },
      "outputs": [
        {
          "name": "stderr",
          "output_type": "stream",
          "text": [
            "[2023-06-09 13:33:15,168 - farasapy_logger - WARNING]: Be careful with large lines as they may break on interactive mode. You may switch to Standalone mode for such cases.\n"
          ]
        }
      ],
      "source": [
        "from farasa.segmenter import FarasaSegmenter\n",
        "farasa_segmenter = FarasaSegmenter(interactive=True)\n",
        "from nltk.stem import ISRIStemmer\n",
        "stemmer = ISRIStemmer() # supports arabic stemming\n",
        "\n",
        "def preprocess(text):\n",
        "    text = re.sub(r'[^\\u0621-\\u064A ]+', ' ', text)  # allows all Arabic letters and spaces\n",
        "\n",
        "    # text = farasa_segmenter.segment(text)\n",
        "    \n",
        "    words = text.split() # splits/tokenize the data by the default rule which is any space\n",
        "    #words = word_tokenize(text) # also tokenize but is more sophisticated especially for english but we didn't feel the result were appropriate\n",
        "    #words = [word for word in words if word not in stopwords.words(\"arabic\")] # remove stop words from corpus\n",
        "    words = [stemmer.stem(word) for word in words] # do stemming on the corpus \n",
        "    text = \" \".join(words)\n",
        "    return text"
      ]
    },
    {
      "cell_type": "code",
      "execution_count": 8,
      "metadata": {
        "execution": {
          "iopub.execute_input": "2022-01-09T10:27:44.996320Z",
          "iopub.status.busy": "2022-01-09T10:27:44.995078Z",
          "iopub.status.idle": "2022-01-09T10:28:03.568638Z",
          "shell.execute_reply": "2022-01-09T10:28:03.567635Z",
          "shell.execute_reply.started": "2022-01-09T10:27:44.996274Z"
        },
        "id": "CjZV2V7mF0fS",
        "trusted": true
      },
      "outputs": [
        {
          "name": "stdout",
          "output_type": "stream",
          "text": [
            "['متز نوع ما نظف وقع جهز شاطيء طعم'\n",
            " 'احد سبب نجح امر ان كل شخص في هذه دول عشق ترب نحن نحب امر ومض من فكر نصح لدل طمح صفف ولى و قئد لا قبل الا برح شعب وفر كل سب عيش كرم حكم و وقف نصح لكل فرد فين ليس جرد كتب سيس كما كنت عقد سحق قرء رات كثر'\n",
            " 'هدف وقي نقل من صخب شرع قهر الى هدء جبل شيش عرف على حقق ما جرى فى تلك بلد من حرب ضرب بحق سلم و جزء كبر من ارخ تلك نطق ضحي رجل وفء كثر من قيم خرى اثب وجد فى تلك روي بسط'\n",
            " ... 'كتب ضعف جدا ولم متع به فى كل قصه سرد لحل او شهد بدن فكر قصه'\n",
            " 'ملة جدا حمد حسن علو فنن كلم وصف عند دقق وزد عن حد لزم هذا ثني كتب قرء كتب على امل اني احب كتب لكن اسف كان سيء زي اول'\n",
            " 'لن رجع اله مرة خرى قرب من بحر كان قدم ولا وجد فيه خدم ربع نجم']\n"
          ]
        }
      ],
      "source": [
        "# DataSet is a DataFrame which is a two dimensional tabular data structure e.g. excel sheet or normal table\n",
        "# we are using .map() to do an operation (preprocess) on the whole column and then save it\n",
        "DataSet[\"text\"] = DataSet.text.map(preprocess)\n",
        "print(DataSet[\"text\"].values)  "
      ]
    },
    {
      "cell_type": "code",
      "execution_count": 9,
      "metadata": {
        "execution": {
          "iopub.execute_input": "2022-01-09T10:28:05.871869Z",
          "iopub.status.busy": "2022-01-09T10:28:05.871564Z",
          "iopub.status.idle": "2022-01-09T10:28:05.932883Z",
          "shell.execute_reply": "2022-01-09T10:28:05.931804Z",
          "shell.execute_reply.started": "2022-01-09T10:28:05.871835Z"
        },
        "id": "bv0m6pu7F0fS",
        "trusted": true
      },
      "outputs": [],
      "source": [
        "#finding length of the maximum sequence of all the text in the dataset\n",
        "maxSeq = len(DataSet[\"text\"][0]) # start with the column \"text\" and the first element as the maxSeq\n",
        "for i in range (0,len(DataSet[\"text\"])):\n",
        "    try:\n",
        "        cur = len(DataSet[\"text\"][i])\n",
        "        if (cur > maxSeq):\n",
        "            maxSeq = cur\n",
        "    except:\n",
        "        pass"
      ]
    },
    {
      "cell_type": "code",
      "execution_count": 10,
      "metadata": {
        "execution": {
          "iopub.execute_input": "2022-01-09T10:28:11.051274Z",
          "iopub.status.busy": "2022-01-09T10:28:11.050355Z",
          "iopub.status.idle": "2022-01-09T10:28:11.083355Z",
          "shell.execute_reply": "2022-01-09T10:28:11.082436Z",
          "shell.execute_reply.started": "2022-01-09T10:28:11.051224Z"
        },
        "id": "Wwxx6AC6F0fS",
        "trusted": true
      },
      "outputs": [],
      "source": [
        "from collections import Counter\n",
        "# a function to count the occurrence of each word in a text column(text)\n",
        "def counter_word(text_col):\n",
        "    count = Counter()\n",
        "    for text in text_col.values:\n",
        "        for word in text.split():\n",
        "            count[word] += 1\n",
        "    return count\n",
        "\n",
        "# call counter_word() for our data set\n",
        "counter = counter_word(DataSet.text)\n",
        "\n",
        "# Set the maximum number of words to the total number of unique words in the 'text' column of the dataset\n",
        "MAX_NUM_WORDS = len(counter)\n",
        "\n",
        "# Set the maximum sequence length to the value of maxSeq\n",
        "MAX_SEQUENCE_LENGTH = maxSeq"
      ]
    },
    {
      "attachments": {},
      "cell_type": "markdown",
      "metadata": {},
      "source": [
        "# Fitting and saving the tokenizer"
      ]
    },
    {
      "cell_type": "code",
      "execution_count": 11,
      "metadata": {
        "execution": {
          "iopub.execute_input": "2022-01-09T10:28:16.693510Z",
          "iopub.status.busy": "2022-01-09T10:28:16.693184Z",
          "iopub.status.idle": "2022-01-09T10:28:16.804791Z",
          "shell.execute_reply": "2022-01-09T10:28:16.803885Z",
          "shell.execute_reply.started": "2022-01-09T10:28:16.693479Z"
        },
        "id": "WS8ECeuuF0fS",
        "trusted": true
      },
      "outputs": [],
      "source": [
        "# Set the embedding dimension\n",
        "EMBEDDING_DIM = 100 # how many features in each vector\n",
        "\n",
        "# Create a Tokenizer object with a maximum vocabulary size of MAX_NUM_WORDS\n",
        "tokenizer = Tokenizer(num_words=MAX_NUM_WORDS)\n",
        "\n",
        "# Fit the tokenizer on the reviews in the 'text' column of the dataset\n",
        "tokenizer.fit_on_texts(DataSet['text'].values)\n",
        "\n",
        "# Save the tokenizer object to a file using pickle\n",
        "with open(\"./model and toknizers/tokenizer_NO_STOPWORDS.pickle\", \"wb\") as handle:\n",
        "    pickle.dump(tokenizer, handle, protocol=pickle.HIGHEST_PROTOCOL)"
      ]
    },
    {
      "cell_type": "code",
      "execution_count": 12,
      "metadata": {
        "colab": {
          "base_uri": "https://localhost:8080/"
        },
        "execution": {
          "iopub.execute_input": "2022-01-09T10:28:19.363604Z",
          "iopub.status.busy": "2022-01-09T10:28:19.362954Z",
          "iopub.status.idle": "2022-01-09T10:28:19.487330Z",
          "shell.execute_reply": "2022-01-09T10:28:19.486397Z",
          "shell.execute_reply.started": "2022-01-09T10:28:19.363570Z"
        },
        "id": "dy_4mtmmF0fT",
        "outputId": "9e36d955-1114-4509-e669-1761c2149af8",
        "trusted": true
      },
      "outputs": [
        {
          "name": "stdout",
          "output_type": "stream",
          "text": [
            "['متز نوع ما نظف وقع جهز شاطيء طعم'\n",
            " 'احد سبب نجح امر ان كل شخص في هذه دول عشق ترب نحن نحب امر ومض من فكر نصح لدل طمح صفف ولى و قئد لا قبل الا برح شعب وفر كل سب عيش كرم حكم و وقف نصح لكل فرد فين ليس جرد كتب سيس كما كنت عقد سحق قرء رات كثر'\n",
            " 'هدف وقي نقل من صخب شرع قهر الى هدء جبل شيش عرف على حقق ما جرى فى تلك بلد من حرب ضرب بحق سلم و جزء كبر من ارخ تلك نطق ضحي رجل وفء كثر من قيم خرى اثب وجد فى تلك روي بسط'\n",
            " ... 'كتب ضعف جدا ولم متع به فى كل قصه سرد لحل او شهد بدن فكر قصه'\n",
            " 'ملة جدا حمد حسن علو فنن كلم وصف عند دقق وزد عن حد لزم هذا ثني كتب قرء كتب على امل اني احب كتب لكن اسف كان سيء زي اول'\n",
            " 'لن رجع اله مرة خرى قرب من بحر كان قدم ولا وجد فيه خدم ربع نجم']\n",
            "Shape of data tensor: (66666, 6106)\n"
          ]
        }
      ],
      "source": [
        "# Convert the reviews in the 'text' column of the dataset to sequences of integers using the tokenizer\n",
        "X = tokenizer.texts_to_sequences(DataSet['text'].values)\n",
        "print(DataSet['text'].values)\n",
        "# Pad the sequences to a fixed length of MAX_SEQUENCE_LENGTH with zeros\n",
        "X = pad_sequences(X, maxlen=MAX_SEQUENCE_LENGTH)\n",
        "\n",
        "# Print the shape of the data tensor (number of sequences, each one with this number of tokens)\n",
        "print('Shape of data tensor:', X.shape)"
      ]
    },
    {
      "cell_type": "code",
      "execution_count": 13,
      "metadata": {
        "colab": {
          "base_uri": "https://localhost:8080/"
        },
        "execution": {
          "iopub.execute_input": "2022-01-09T10:28:22.614340Z",
          "iopub.status.busy": "2022-01-09T10:28:22.613799Z",
          "iopub.status.idle": "2022-01-09T10:28:22.626443Z",
          "shell.execute_reply": "2022-01-09T10:28:22.625095Z",
          "shell.execute_reply.started": "2022-01-09T10:28:22.614306Z"
        },
        "id": "5kxm-Eu0F0fT",
        "outputId": "469dcea1-1ee7-49a6-e068-d83e055b12c2",
        "trusted": true
      },
      "outputs": [
        {
          "name": "stdout",
          "output_type": "stream",
          "text": [
            "[1 1 1 ... 0 0 0]\n",
            "Shape of label tensor: (66666,)\n"
          ]
        }
      ],
      "source": [
        "from sklearn import preprocessing\n",
        "\n",
        "# Create a LabelEncoder object\n",
        "labelencoder = preprocessing.LabelEncoder()\n",
        "\n",
        "# Encode the target labels with values between 0 and n_classes-1\n",
        "DataSet['label'] = labelencoder.fit_transform(DataSet['label']) # The fit_transform() method fits and transforms the labels into a numerical format. The numerical format is determined by the encoder, and is typically a sequence of integers starting from 0.\n",
        "\n",
        "# Extract the encoded target labels as a numpy array\n",
        "Y = DataSet['label'].values\n",
        "print(Y)\n",
        "# Print the shape of the label tensor\n",
        "print('Shape of label tensor:', Y.shape)"
      ]
    },
    {
      "cell_type": "code",
      "execution_count": 15,
      "metadata": {
        "colab": {
          "base_uri": "https://localhost:8080/"
        },
        "execution": {
          "iopub.execute_input": "2022-01-09T10:28:25.780315Z",
          "iopub.status.busy": "2022-01-09T10:28:25.779764Z",
          "iopub.status.idle": "2022-01-09T10:28:25.808356Z",
          "shell.execute_reply": "2022-01-09T10:28:25.806739Z",
          "shell.execute_reply.started": "2022-01-09T10:28:25.780263Z"
        },
        "id": "t1yMsWwoF0fT",
        "outputId": "803cc31c-ff26-4dfb-dfa3-8ba95a6786f1",
        "trusted": true
      },
      "outputs": [
        {
          "name": "stdout",
          "output_type": "stream",
          "text": [
            "(53332, 6106) (53332,)\n",
            "(13334, 6106) (13334,)\n"
          ]
        }
      ],
      "source": [
        "from sklearn.model_selection import train_test_split\n",
        "# test_size:the number that defines the size of the test set----random state: exposes a number of methods for generating random numbers drawn from a variety of probability distributions\n",
        "X_train, X_test, Y_train, Y_test = train_test_split(X,Y, test_size = 0.20, random_state = 42) \n",
        "print(X_train.shape,Y_train.shape)\n",
        "print(X_test.shape,Y_test.shape)"
      ]
    },
    {
      "attachments": {},
      "cell_type": "markdown",
      "metadata": {
        "id": "4mkZ1IZ-F0fU"
      },
      "source": [
        "\n",
        "# Training the model "
      ]
    },
    {
      "cell_type": "code",
      "execution_count": 16,
      "metadata": {
        "colab": {
          "base_uri": "https://localhost:8080/"
        },
        "execution": {
          "iopub.execute_input": "2022-01-09T10:28:39.751917Z",
          "iopub.status.busy": "2022-01-09T10:28:39.751547Z",
          "iopub.status.idle": "2022-01-09T10:28:53.986005Z",
          "shell.execute_reply": "2022-01-09T10:28:53.985044Z",
          "shell.execute_reply.started": "2022-01-09T10:28:39.751871Z"
        },
        "id": "QSL3Jm23F0fU",
        "outputId": "36a48444-dfb2-464f-9570-8363a96bd3ab",
        "trusted": true
      },
      "outputs": [
        {
          "name": "stdout",
          "output_type": "stream",
          "text": [
            "Model: \"sequential\"\n",
            "_________________________________________________________________\n",
            " Layer (type)                Output Shape              Param #   \n",
            "=================================================================\n",
            " embedding (Embedding)       (None, 6106, 100)         4795500   \n",
            "                                                                 \n",
            " lstm (LSTM)                 (None, 32)                17024     \n",
            "                                                                 \n",
            " dense (Dense)               (None, 1)                 33        \n",
            "                                                                 \n",
            "=================================================================\n",
            "Total params: 4,812,557\n",
            "Trainable params: 4,812,557\n",
            "Non-trainable params: 0\n",
            "_________________________________________________________________\n",
            "None\n",
            "Epoch 1/10\n",
            "140/667 [=====>........................] - ETA: 3:18 - loss: 0.6115 - accuracy: 0.6834"
          ]
        },
        {
          "ename": "KeyboardInterrupt",
          "evalue": "",
          "output_type": "error",
          "traceback": [
            "\u001b[1;31m---------------------------------------------------------------------------\u001b[0m",
            "\u001b[1;31mKeyboardInterrupt\u001b[0m                         Traceback (most recent call last)",
            "Cell \u001b[1;32mIn[16], line 19\u001b[0m\n\u001b[0;32m     16\u001b[0m \u001b[39m# Print a summary of the model architecture\u001b[39;00m\n\u001b[0;32m     17\u001b[0m \u001b[39mprint\u001b[39m(model\u001b[39m.\u001b[39msummary())\n\u001b[1;32m---> 19\u001b[0m history \u001b[39m=\u001b[39m model\u001b[39m.\u001b[39;49mfit(X_train, Y_train, epochs\u001b[39m=\u001b[39;49m\u001b[39m10\u001b[39;49m, batch_size\u001b[39m=\u001b[39;49m\u001b[39m64\u001b[39;49m,validation_split\u001b[39m=\u001b[39;49m\u001b[39m0.2\u001b[39;49m,callbacks\u001b[39m=\u001b[39;49m[EarlyStopping(monitor\u001b[39m=\u001b[39;49m\u001b[39m'\u001b[39;49m\u001b[39mval_loss\u001b[39;49m\u001b[39m'\u001b[39;49m, patience\u001b[39m=\u001b[39;49m\u001b[39m3\u001b[39;49m, min_delta\u001b[39m=\u001b[39;49m\u001b[39m0.0001\u001b[39;49m)])\n\u001b[0;32m     20\u001b[0m  \u001b[39m#the dataset is split into 20% 80% which mean 80% for traning and 20% for testing\u001b[39;00m\n\u001b[0;32m     21\u001b[0m  \u001b[39m#epochs is the total number of iterations of all the training data in one cycle for training the machine learning model\u001b[39;00m\n",
            "File \u001b[1;32mc:\\Users\\abdulelah\\miniconda3\\lib\\site-packages\\keras\\utils\\traceback_utils.py:65\u001b[0m, in \u001b[0;36mfilter_traceback.<locals>.error_handler\u001b[1;34m(*args, **kwargs)\u001b[0m\n\u001b[0;32m     63\u001b[0m filtered_tb \u001b[39m=\u001b[39m \u001b[39mNone\u001b[39;00m\n\u001b[0;32m     64\u001b[0m \u001b[39mtry\u001b[39;00m:\n\u001b[1;32m---> 65\u001b[0m     \u001b[39mreturn\u001b[39;00m fn(\u001b[39m*\u001b[39margs, \u001b[39m*\u001b[39m\u001b[39m*\u001b[39mkwargs)\n\u001b[0;32m     66\u001b[0m \u001b[39mexcept\u001b[39;00m \u001b[39mException\u001b[39;00m \u001b[39mas\u001b[39;00m e:\n\u001b[0;32m     67\u001b[0m     filtered_tb \u001b[39m=\u001b[39m _process_traceback_frames(e\u001b[39m.\u001b[39m__traceback__)\n",
            "File \u001b[1;32mc:\\Users\\abdulelah\\miniconda3\\lib\\site-packages\\keras\\engine\\training.py:1564\u001b[0m, in \u001b[0;36mModel.fit\u001b[1;34m(self, x, y, batch_size, epochs, verbose, callbacks, validation_split, validation_data, shuffle, class_weight, sample_weight, initial_epoch, steps_per_epoch, validation_steps, validation_batch_size, validation_freq, max_queue_size, workers, use_multiprocessing)\u001b[0m\n\u001b[0;32m   1556\u001b[0m \u001b[39mwith\u001b[39;00m tf\u001b[39m.\u001b[39mprofiler\u001b[39m.\u001b[39mexperimental\u001b[39m.\u001b[39mTrace(\n\u001b[0;32m   1557\u001b[0m     \u001b[39m\"\u001b[39m\u001b[39mtrain\u001b[39m\u001b[39m\"\u001b[39m,\n\u001b[0;32m   1558\u001b[0m     epoch_num\u001b[39m=\u001b[39mepoch,\n\u001b[1;32m   (...)\u001b[0m\n\u001b[0;32m   1561\u001b[0m     _r\u001b[39m=\u001b[39m\u001b[39m1\u001b[39m,\n\u001b[0;32m   1562\u001b[0m ):\n\u001b[0;32m   1563\u001b[0m     callbacks\u001b[39m.\u001b[39mon_train_batch_begin(step)\n\u001b[1;32m-> 1564\u001b[0m     tmp_logs \u001b[39m=\u001b[39m \u001b[39mself\u001b[39;49m\u001b[39m.\u001b[39;49mtrain_function(iterator)\n\u001b[0;32m   1565\u001b[0m     \u001b[39mif\u001b[39;00m data_handler\u001b[39m.\u001b[39mshould_sync:\n\u001b[0;32m   1566\u001b[0m         context\u001b[39m.\u001b[39masync_wait()\n",
            "File \u001b[1;32mc:\\Users\\abdulelah\\miniconda3\\lib\\site-packages\\tensorflow\\python\\util\\traceback_utils.py:150\u001b[0m, in \u001b[0;36mfilter_traceback.<locals>.error_handler\u001b[1;34m(*args, **kwargs)\u001b[0m\n\u001b[0;32m    148\u001b[0m filtered_tb \u001b[39m=\u001b[39m \u001b[39mNone\u001b[39;00m\n\u001b[0;32m    149\u001b[0m \u001b[39mtry\u001b[39;00m:\n\u001b[1;32m--> 150\u001b[0m   \u001b[39mreturn\u001b[39;00m fn(\u001b[39m*\u001b[39margs, \u001b[39m*\u001b[39m\u001b[39m*\u001b[39mkwargs)\n\u001b[0;32m    151\u001b[0m \u001b[39mexcept\u001b[39;00m \u001b[39mException\u001b[39;00m \u001b[39mas\u001b[39;00m e:\n\u001b[0;32m    152\u001b[0m   filtered_tb \u001b[39m=\u001b[39m _process_traceback_frames(e\u001b[39m.\u001b[39m__traceback__)\n",
            "File \u001b[1;32mc:\\Users\\abdulelah\\miniconda3\\lib\\site-packages\\tensorflow\\python\\eager\\def_function.py:915\u001b[0m, in \u001b[0;36mFunction.__call__\u001b[1;34m(self, *args, **kwds)\u001b[0m\n\u001b[0;32m    912\u001b[0m compiler \u001b[39m=\u001b[39m \u001b[39m\"\u001b[39m\u001b[39mxla\u001b[39m\u001b[39m\"\u001b[39m \u001b[39mif\u001b[39;00m \u001b[39mself\u001b[39m\u001b[39m.\u001b[39m_jit_compile \u001b[39melse\u001b[39;00m \u001b[39m\"\u001b[39m\u001b[39mnonXla\u001b[39m\u001b[39m\"\u001b[39m\n\u001b[0;32m    914\u001b[0m \u001b[39mwith\u001b[39;00m OptionalXlaContext(\u001b[39mself\u001b[39m\u001b[39m.\u001b[39m_jit_compile):\n\u001b[1;32m--> 915\u001b[0m   result \u001b[39m=\u001b[39m \u001b[39mself\u001b[39m\u001b[39m.\u001b[39m_call(\u001b[39m*\u001b[39margs, \u001b[39m*\u001b[39m\u001b[39m*\u001b[39mkwds)\n\u001b[0;32m    917\u001b[0m new_tracing_count \u001b[39m=\u001b[39m \u001b[39mself\u001b[39m\u001b[39m.\u001b[39mexperimental_get_tracing_count()\n\u001b[0;32m    918\u001b[0m without_tracing \u001b[39m=\u001b[39m (tracing_count \u001b[39m==\u001b[39m new_tracing_count)\n",
            "File \u001b[1;32mc:\\Users\\abdulelah\\miniconda3\\lib\\site-packages\\tensorflow\\python\\eager\\def_function.py:947\u001b[0m, in \u001b[0;36mFunction._call\u001b[1;34m(self, *args, **kwds)\u001b[0m\n\u001b[0;32m    944\u001b[0m   \u001b[39mself\u001b[39m\u001b[39m.\u001b[39m_lock\u001b[39m.\u001b[39mrelease()\n\u001b[0;32m    945\u001b[0m   \u001b[39m# In this case we have created variables on the first call, so we run the\u001b[39;00m\n\u001b[0;32m    946\u001b[0m   \u001b[39m# defunned version which is guaranteed to never create variables.\u001b[39;00m\n\u001b[1;32m--> 947\u001b[0m   \u001b[39mreturn\u001b[39;00m \u001b[39mself\u001b[39m\u001b[39m.\u001b[39m_stateless_fn(\u001b[39m*\u001b[39margs, \u001b[39m*\u001b[39m\u001b[39m*\u001b[39mkwds)  \u001b[39m# pylint: disable=not-callable\u001b[39;00m\n\u001b[0;32m    948\u001b[0m \u001b[39melif\u001b[39;00m \u001b[39mself\u001b[39m\u001b[39m.\u001b[39m_stateful_fn \u001b[39mis\u001b[39;00m \u001b[39mnot\u001b[39;00m \u001b[39mNone\u001b[39;00m:\n\u001b[0;32m    949\u001b[0m   \u001b[39m# Release the lock early so that multiple threads can perform the call\u001b[39;00m\n\u001b[0;32m    950\u001b[0m   \u001b[39m# in parallel.\u001b[39;00m\n\u001b[0;32m    951\u001b[0m   \u001b[39mself\u001b[39m\u001b[39m.\u001b[39m_lock\u001b[39m.\u001b[39mrelease()\n",
            "File \u001b[1;32mc:\\Users\\abdulelah\\miniconda3\\lib\\site-packages\\tensorflow\\python\\eager\\function.py:2496\u001b[0m, in \u001b[0;36mFunction.__call__\u001b[1;34m(self, *args, **kwargs)\u001b[0m\n\u001b[0;32m   2493\u001b[0m \u001b[39mwith\u001b[39;00m \u001b[39mself\u001b[39m\u001b[39m.\u001b[39m_lock:\n\u001b[0;32m   2494\u001b[0m   (graph_function,\n\u001b[0;32m   2495\u001b[0m    filtered_flat_args) \u001b[39m=\u001b[39m \u001b[39mself\u001b[39m\u001b[39m.\u001b[39m_maybe_define_function(args, kwargs)\n\u001b[1;32m-> 2496\u001b[0m \u001b[39mreturn\u001b[39;00m graph_function\u001b[39m.\u001b[39;49m_call_flat(\n\u001b[0;32m   2497\u001b[0m     filtered_flat_args, captured_inputs\u001b[39m=\u001b[39;49mgraph_function\u001b[39m.\u001b[39;49mcaptured_inputs)\n",
            "File \u001b[1;32mc:\\Users\\abdulelah\\miniconda3\\lib\\site-packages\\tensorflow\\python\\eager\\function.py:1862\u001b[0m, in \u001b[0;36mConcreteFunction._call_flat\u001b[1;34m(self, args, captured_inputs, cancellation_manager)\u001b[0m\n\u001b[0;32m   1858\u001b[0m possible_gradient_type \u001b[39m=\u001b[39m gradients_util\u001b[39m.\u001b[39mPossibleTapeGradientTypes(args)\n\u001b[0;32m   1859\u001b[0m \u001b[39mif\u001b[39;00m (possible_gradient_type \u001b[39m==\u001b[39m gradients_util\u001b[39m.\u001b[39mPOSSIBLE_GRADIENT_TYPES_NONE\n\u001b[0;32m   1860\u001b[0m     \u001b[39mand\u001b[39;00m executing_eagerly):\n\u001b[0;32m   1861\u001b[0m   \u001b[39m# No tape is watching; skip to running the function.\u001b[39;00m\n\u001b[1;32m-> 1862\u001b[0m   \u001b[39mreturn\u001b[39;00m \u001b[39mself\u001b[39m\u001b[39m.\u001b[39m_build_call_outputs(\u001b[39mself\u001b[39;49m\u001b[39m.\u001b[39;49m_inference_function\u001b[39m.\u001b[39;49mcall(\n\u001b[0;32m   1863\u001b[0m       ctx, args, cancellation_manager\u001b[39m=\u001b[39;49mcancellation_manager))\n\u001b[0;32m   1864\u001b[0m forward_backward \u001b[39m=\u001b[39m \u001b[39mself\u001b[39m\u001b[39m.\u001b[39m_select_forward_and_backward_functions(\n\u001b[0;32m   1865\u001b[0m     args,\n\u001b[0;32m   1866\u001b[0m     possible_gradient_type,\n\u001b[0;32m   1867\u001b[0m     executing_eagerly)\n\u001b[0;32m   1868\u001b[0m forward_function, args_with_tangents \u001b[39m=\u001b[39m forward_backward\u001b[39m.\u001b[39mforward()\n",
            "File \u001b[1;32mc:\\Users\\abdulelah\\miniconda3\\lib\\site-packages\\tensorflow\\python\\eager\\function.py:499\u001b[0m, in \u001b[0;36m_EagerDefinedFunction.call\u001b[1;34m(self, ctx, args, cancellation_manager)\u001b[0m\n\u001b[0;32m    497\u001b[0m \u001b[39mwith\u001b[39;00m _InterpolateFunctionError(\u001b[39mself\u001b[39m):\n\u001b[0;32m    498\u001b[0m   \u001b[39mif\u001b[39;00m cancellation_manager \u001b[39mis\u001b[39;00m \u001b[39mNone\u001b[39;00m:\n\u001b[1;32m--> 499\u001b[0m     outputs \u001b[39m=\u001b[39m execute\u001b[39m.\u001b[39;49mexecute(\n\u001b[0;32m    500\u001b[0m         \u001b[39mstr\u001b[39;49m(\u001b[39mself\u001b[39;49m\u001b[39m.\u001b[39;49msignature\u001b[39m.\u001b[39;49mname),\n\u001b[0;32m    501\u001b[0m         num_outputs\u001b[39m=\u001b[39;49m\u001b[39mself\u001b[39;49m\u001b[39m.\u001b[39;49m_num_outputs,\n\u001b[0;32m    502\u001b[0m         inputs\u001b[39m=\u001b[39;49margs,\n\u001b[0;32m    503\u001b[0m         attrs\u001b[39m=\u001b[39;49mattrs,\n\u001b[0;32m    504\u001b[0m         ctx\u001b[39m=\u001b[39;49mctx)\n\u001b[0;32m    505\u001b[0m   \u001b[39melse\u001b[39;00m:\n\u001b[0;32m    506\u001b[0m     outputs \u001b[39m=\u001b[39m execute\u001b[39m.\u001b[39mexecute_with_cancellation(\n\u001b[0;32m    507\u001b[0m         \u001b[39mstr\u001b[39m(\u001b[39mself\u001b[39m\u001b[39m.\u001b[39msignature\u001b[39m.\u001b[39mname),\n\u001b[0;32m    508\u001b[0m         num_outputs\u001b[39m=\u001b[39m\u001b[39mself\u001b[39m\u001b[39m.\u001b[39m_num_outputs,\n\u001b[1;32m   (...)\u001b[0m\n\u001b[0;32m    511\u001b[0m         ctx\u001b[39m=\u001b[39mctx,\n\u001b[0;32m    512\u001b[0m         cancellation_manager\u001b[39m=\u001b[39mcancellation_manager)\n",
            "File \u001b[1;32mc:\\Users\\abdulelah\\miniconda3\\lib\\site-packages\\tensorflow\\python\\eager\\execute.py:54\u001b[0m, in \u001b[0;36mquick_execute\u001b[1;34m(op_name, num_outputs, inputs, attrs, ctx, name)\u001b[0m\n\u001b[0;32m     52\u001b[0m \u001b[39mtry\u001b[39;00m:\n\u001b[0;32m     53\u001b[0m   ctx\u001b[39m.\u001b[39mensure_initialized()\n\u001b[1;32m---> 54\u001b[0m   tensors \u001b[39m=\u001b[39m pywrap_tfe\u001b[39m.\u001b[39;49mTFE_Py_Execute(ctx\u001b[39m.\u001b[39;49m_handle, device_name, op_name,\n\u001b[0;32m     55\u001b[0m                                       inputs, attrs, num_outputs)\n\u001b[0;32m     56\u001b[0m \u001b[39mexcept\u001b[39;00m core\u001b[39m.\u001b[39m_NotOkStatusException \u001b[39mas\u001b[39;00m e:\n\u001b[0;32m     57\u001b[0m   \u001b[39mif\u001b[39;00m name \u001b[39mis\u001b[39;00m \u001b[39mnot\u001b[39;00m \u001b[39mNone\u001b[39;00m:\n",
            "\u001b[1;31mKeyboardInterrupt\u001b[0m: "
          ]
        }
      ],
      "source": [
        "# Create a sequential model\n",
        "model = tensorflow.keras.models.Sequential() \n",
        "\n",
        "# Add an embedding layer to the model with the specified maximum number of words and embedding dimension\n",
        "model.add(layers.Embedding(MAX_NUM_WORDS, EMBEDDING_DIM, input_length=X.shape[1]))\n",
        "\n",
        "# Add an LSTM layer to the model with 32 units\n",
        "model.add(layers.LSTM(32))\n",
        "\n",
        "# Add a dense output layer to the model with a sigmoid activation function\n",
        "model.add(layers.Dense(1, activation='sigmoid'))\n",
        "\n",
        "# Compile the model with binary cross-entropy loss, the Adam optimizer, and accuracy as a metric\n",
        "model.compile(loss='binary_crossentropy', optimizer='adam', metrics=['accuracy'])\n",
        "\n",
        "# Print a summary of the model architecture\n",
        "print(model.summary())\n",
        "\n",
        "history = model.fit(X_train, Y_train, epochs=10, batch_size=64,validation_split=0.2,callbacks=[EarlyStopping(monitor='val_loss', patience=3, min_delta=0.0001)])\n",
        " #the dataset is split into 20% 80% which mean 80% for traning and 20% for testing\n",
        " #epochs is the total number of iterations of all the training data in one cycle for training the machine learning model\n"
      ]
    },
    {
      "attachments": {},
      "cell_type": "markdown",
      "metadata": {
        "id": "B9mRPcnvF0fV"
      },
      "source": [
        "# Model Evaluation"
      ]
    },
    {
      "cell_type": "code",
      "execution_count": 30,
      "metadata": {
        "colab": {
          "base_uri": "https://localhost:8080/",
          "height": 922
        },
        "execution": {
          "iopub.execute_input": "2022-01-09T10:29:00.490435Z",
          "iopub.status.busy": "2022-01-09T10:29:00.490132Z",
          "iopub.status.idle": "2022-01-09T10:29:00.749979Z",
          "shell.execute_reply": "2022-01-09T10:29:00.748892Z",
          "shell.execute_reply.started": "2022-01-09T10:29:00.490395Z"
        },
        "id": "rAUll8MeF0fV",
        "outputId": "765967df-c8af-4434-ddec-e3af879c8bcc",
        "trusted": true
      },
      "outputs": [
        {
          "data": {
            "image/png": "[encoded data removed]",
            "text/plain": [
              "<Figure size 640x480 with 1 Axes>"
            ]
          },
          "metadata": {},
          "output_type": "display_data"
        },
        {
          "name": "stdout",
          "output_type": "stream",
          "text": [
            "\n",
            "\n"
          ]
        },
        {
          "data": {
            "image/png": "[encoded data removed]",
            "text/plain": [
              "<Figure size 640x480 with 1 Axes>"
            ]
          },
          "metadata": {},
          "output_type": "display_data"
        }
      ],
      "source": [
        "# Plot the training and validation loss\n",
        "plt.title('Loss')\n",
        "plt.plot(history.history['loss'], label='training loss')\n",
        "plt.plot(history.history['val_loss'], label='validation loss')\n",
        "plt.legend()\n",
        "plt.show()\n",
        "\n",
        "# Print a blank line for better readability\n",
        "print(\"\\n\")\n",
        "\n",
        "# Plot the training and validation accuracy\n",
        "plt.title('Accuracy')\n",
        "plt.plot(history.history['accuracy'], label='training accuracy')\n",
        "plt.plot(history.history['val_accuracy'], label='validation accuracy')\n",
        "plt.legend()\n",
        "plt.show()"
      ]
    },
    {
      "cell_type": "code",
      "execution_count": 41,
      "metadata": {
        "colab": {
          "base_uri": "https://localhost:8080/"
        },
        "execution": {
          "iopub.execute_input": "2022-01-09T10:29:10.364242Z",
          "iopub.status.busy": "2022-01-09T10:29:10.363941Z",
          "iopub.status.idle": "2022-01-09T10:29:10.381068Z",
          "shell.execute_reply": "2022-01-09T10:29:10.379660Z",
          "shell.execute_reply.started": "2022-01-09T10:29:10.364212Z"
        },
        "id": "FvgUaAVhF0fW",
        "outputId": "7c75ee1f-7451-42b5-b809-94b8bd58ef08",
        "trusted": true
      },
      "outputs": [
        {
          "name": "stdout",
          "output_type": "stream",
          "text": [
            "417/417 - 63s - 63s/epoch - 152ms/step\n",
            "              precision    recall  f1-score   support\n",
            "\n",
            "    POSITIVE       0.84      0.86      0.85      6677\n",
            "    NEGATIVE       0.85      0.84      0.85      6657\n",
            "\n",
            "    accuracy                           0.85     13334\n",
            "   macro avg       0.85      0.85      0.85     13334\n",
            "weighted avg       0.85      0.85      0.85     13334\n",
            "\n"
          ]
        }
      ],
      "source": [
        "# Set the classification threshold\n",
        "threshold_value = 0.5 \n",
        "\n",
        "# Generate predicted labels for the test set using the trained model\n",
        "predicted_labels = model.predict(X_test, verbose=2)\n",
        "\n",
        "# Apply the classification threshold to the predicted labels to obtain binary predictions\n",
        "binary_predictions = predicted_labels > threshold_value\n",
        "binary_predictions = binary_predictions.astype(int)\n",
        "\n",
        "# Import and use the classification report function from sklearn.metrics to calculate performance metrics\n",
        "from sklearn.metrics import classification_report \n",
        "target_names = ['POSITIVE', 'NEGATIVE']\n",
        "print(classification_report(Y_test, binary_predictions, target_names=target_names))"
      ]
    },
    {
      "cell_type": "code",
      "execution_count": 42,
      "metadata": {
        "colab": {
          "base_uri": "https://localhost:8080/",
          "height": 449
        },
        "id": "suMOicPYJXlQ",
        "outputId": "26f97d0b-d5c6-4c4b-a896-a8827c57a33f"
      },
      "outputs": [
        {
          "data": {
            "image/png": "[encoded data removed]",
            "text/plain": [
              "<Figure size 640x480 with 2 Axes>"
            ]
          },
          "metadata": {},
          "output_type": "display_data"
        }
      ],
      "source": [
        "confusion_matrix = metrics.confusion_matrix(Y_test, binary_predictions)\n",
        "\n",
        "cm_display = metrics.ConfusionMatrixDisplay(confusion_matrix, display_labels = [True, False])\n",
        "\n",
        "cm_display.plot()\n",
        "plt.show()"
      ]
    },
    {
      "cell_type": "code",
      "execution_count": 43,
      "metadata": {
        "colab": {
          "base_uri": "https://localhost:8080/",
          "height": 112
        },
        "execution": {
          "iopub.execute_input": "2022-01-09T10:29:14.765851Z",
          "iopub.status.busy": "2022-01-09T10:29:14.765145Z",
          "iopub.status.idle": "2022-01-09T10:29:14.783201Z",
          "shell.execute_reply": "2022-01-09T10:29:14.781964Z",
          "shell.execute_reply.started": "2022-01-09T10:29:14.765814Z"
        },
        "id": "4Vs9I8B4F0fW",
        "outputId": "36073a8d-ed07-40ec-98a9-067ed1b99912",
        "trusted": true
      },
      "outputs": [
        {
          "data": {
            "text/html": [
              "<div>\n",
              "<style scoped>\n",
              "    .dataframe tbody tr th:only-of-type {\n",
              "        vertical-align: middle;\n",
              "    }\n",
              "\n",
              "    .dataframe tbody tr th {\n",
              "        vertical-align: top;\n",
              "    }\n",
              "\n",
              "    .dataframe thead th {\n",
              "        text-align: right;\n",
              "    }\n",
              "</style>\n",
              "<table border=\"1\" class=\"dataframe\">\n",
              "  <thead>\n",
              "    <tr style=\"text-align: right;\">\n",
              "      <th></th>\n",
              "      <th>POSITIVE</th>\n",
              "      <th>NEGATIVE</th>\n",
              "    </tr>\n",
              "  </thead>\n",
              "  <tbody>\n",
              "    <tr>\n",
              "      <th>POSITIVE</th>\n",
              "      <td>5715</td>\n",
              "      <td>962</td>\n",
              "    </tr>\n",
              "    <tr>\n",
              "      <th>NEGATIVE</th>\n",
              "      <td>1073</td>\n",
              "      <td>5584</td>\n",
              "    </tr>\n",
              "  </tbody>\n",
              "</table>\n",
              "</div>"
            ],
            "text/plain": [
              "          POSITIVE  NEGATIVE\n",
              "POSITIVE      5715       962\n",
              "NEGATIVE      1073      5584"
            ]
          },
          "execution_count": 43,
          "metadata": {},
          "output_type": "execute_result"
        }
      ],
      "source": [
        "from sklearn.metrics import confusion_matrix\n",
        "cm = confusion_matrix(Y_test, binary_predictions)\n",
        "cm_df = pd.DataFrame(cm, index = target_names, columns = target_names)\n",
        "cm_df.head()"
      ]
    },
    {
      "cell_type": "code",
      "execution_count": 44,
      "metadata": {
        "colab": {
          "base_uri": "https://localhost:8080/",
          "height": 489
        },
        "execution": {
          "iopub.execute_input": "2022-01-09T10:29:20.030277Z",
          "iopub.status.busy": "2022-01-09T10:29:20.029805Z",
          "iopub.status.idle": "2022-01-09T10:29:20.257316Z",
          "shell.execute_reply": "2022-01-09T10:29:20.256337Z",
          "shell.execute_reply.started": "2022-01-09T10:29:20.030243Z"
        },
        "id": "SxTOOGDCF0fW",
        "outputId": "57147447-1c3a-4257-9ecc-3c87737a1f6e",
        "trusted": true
      },
      "outputs": [
        {
          "data": {
            "image/png": "[encoded data removed]",
            "text/plain": [
              "<Figure size 640x480 with 1 Axes>"
            ]
          },
          "metadata": {},
          "output_type": "display_data"
        },
        {
          "name": "stdout",
          "output_type": "stream",
          "text": [
            "Area under the ROC curve: 0.8473698012335049\n"
          ]
        }
      ],
      "source": [
        "# Define an array of cutoff values\n",
        "cutoffs = np.linspace(0.0, 1.0, 100)\n",
        "\n",
        "# Initialize empty lists to hold false positive rates and true positive rates\n",
        "fpr_list = []\n",
        "tpr_list = []\n",
        "\n",
        "# Calculate the false positive rate, true positive rate, and cutoff values using the roc_curve function\n",
        "fpr, tpr, _ = metrics.roc_curve(Y_test, binary_predictions, pos_label=1)\n",
        "\n",
        "# Plot the ROC curve using the false positive rate and true positive rate values\n",
        "plt.plot(fpr, tpr, color='red', linewidth=1.0)\n",
        "plt.xlabel('False Positive Rate')\n",
        "plt.ylabel('True Positive Rate')\n",
        "plt.title('Receiver Operating Characteristic (ROC) Curve')\n",
        "plt.show()\n",
        "\n",
        "# Calculate the area under the ROC curve using the roc_auc_score function\n",
        "roc_auc = metrics.roc_auc_score(Y_test, binary_predictions)\n",
        "\n",
        "# Print the area under the ROC curve\n",
        "print(\"Area under the ROC curve:\", roc_auc)"
      ]
    },
    {
      "cell_type": "code",
      "execution_count": 45,
      "metadata": {
        "colab": {
          "base_uri": "https://localhost:8080/",
          "height": 472
        },
        "execution": {
          "iopub.execute_input": "2022-01-09T10:29:23.990789Z",
          "iopub.status.busy": "2022-01-09T10:29:23.990395Z",
          "iopub.status.idle": "2022-01-09T10:29:24.254330Z",
          "shell.execute_reply": "2022-01-09T10:29:24.253307Z",
          "shell.execute_reply.started": "2022-01-09T10:29:23.990756Z"
        },
        "id": "ac0rxlEJF0fX",
        "outputId": "0a6bb8d1-e898-4946-949f-60199f82868a",
        "trusted": true
      },
      "outputs": [
        {
          "data": {
            "image/png": "[encoded data removed]",
            "text/plain": [
              "<Figure size 640x480 with 1 Axes>"
            ]
          },
          "metadata": {},
          "output_type": "display_data"
        }
      ],
      "source": [
        "# Calculate the false positive rate, true positive rate, and thresholds using the roc_curve function\n",
        "fpr, tpr, thresholds = metrics.roc_curve(Y_test, binary_predictions)\n",
        "\n",
        "# Calculate the area under the ROC curve using the auc function\n",
        "auc_score = metrics.auc(fpr, tpr)\n",
        "\n",
        "# Calculate the precision, recall, and threshold values using the precision_recall_curve function\n",
        "precision, recall, th = metrics.precision_recall_curve(Y_test, binary_predictions)\n",
        "\n",
        "# Plot the ROC curve, Precision-Recall curve, and a diagonal line representing random guessing\n",
        "plt.plot([0, 1], [0, 1], 'k--')\n",
        "plt.plot(fpr, tpr, label='ROC curve (area = %0.3f)' % auc_score)\n",
        "plt.plot(recall, precision, label='Precision-Recall curve')\n",
        "plt.title('Binary Classification Model Performance')\n",
        "plt.xlabel('False Positive Rate / Recall')\n",
        "plt.ylabel('True Positive Rate / Precision')\n",
        "plt.legend(loc='best')\n",
        "plt.show()"
      ]
    },
    {
      "attachments": {},
      "cell_type": "markdown",
      "metadata": {
        "id": "FwA3p1XBF0fX"
      },
      "source": [
        "## Save Model"
      ]
    },
    {
      "cell_type": "code",
      "execution_count": 46,
      "metadata": {
        "execution": {
          "iopub.execute_input": "2022-01-09T10:29:29.281664Z",
          "iopub.status.busy": "2022-01-09T10:29:29.281279Z",
          "iopub.status.idle": "2022-01-09T10:29:29.338155Z",
          "shell.execute_reply": "2022-01-09T10:29:29.336979Z",
          "shell.execute_reply.started": "2022-01-09T10:29:29.281619Z"
        },
        "id": "BvcQPNHoF0fX",
        "trusted": true
      },
      "outputs": [],
      "source": [
        "model.save(\"./model and toknizers/NO_STOPWORDS.h5\") #this funcaion saves the model"
      ]
    },
    {
      "attachments": {},
      "cell_type": "markdown",
      "metadata": {
        "id": "stH_CKfGF0fX"
      },
      "source": [
        "## Model Testing"
      ]
    },
    {
      "cell_type": "code",
      "execution_count": 47,
      "metadata": {
        "colab": {
          "base_uri": "https://localhost:8080/"
        },
        "execution": {
          "iopub.execute_input": "2022-01-09T10:33:17.216899Z",
          "iopub.status.busy": "2022-01-09T10:33:17.216588Z",
          "iopub.status.idle": "2022-01-09T10:33:21.134628Z",
          "shell.execute_reply": "2022-01-09T10:33:21.133544Z",
          "shell.execute_reply.started": "2022-01-09T10:33:17.216853Z"
        },
        "id": "OyEY4ULiF0fX",
        "outputId": "79a5a108-2bb5-478d-a0be-eeebcd37d5e9",
        "trusted": true
      },
      "outputs": [
        {
          "name": "stdout",
          "output_type": "stream",
          "text": [
            "انت شخص جيد\n",
            "1/1 [==============================] - 1s 574ms/step\n",
            "0.9015902\n",
            "POSITIVE\n"
          ]
        }
      ],
      "source": [
        "import tensorflow as tf\n",
        "import pickle\n",
        "\n",
        "# Load the model\n",
        "loaded_model = tf.keras.models.load_model(\"./model and toknizers/NO_STOPWORDS.h5\")\n",
        "\n",
        "# Take input text from user\n",
        "test_text = input(\"Enter the text message: \")\n",
        "print(test_text)\n",
        "# Preprocess the input text same as the preprocessing done for the corpus\n",
        "test_text = preprocess(test_text) \n",
        "test_text = [test_text] \n",
        "\n",
        "# Load the tokenizer\n",
        "with open(\"./model and toknizers/tokenizer_NO_STOPWORDS.pickle\", \"rb\") as handle:\n",
        "    tokenizer = pickle.load(handle)\n",
        "\n",
        "# Convert the input text to a sequence of integers\n",
        "test_seq = tokenizer.texts_to_sequences(test_text)\n",
        "\n",
        "# Pad the sequence to a fixed length\n",
        "max_seq_length = loaded_model.input_shape[1]\n",
        "test_seq = pad_sequences(test_seq, maxlen=max_seq_length)\n",
        "\n",
        "# Apply the model to the input sequence\n",
        "threshold = 0.50\n",
        "binary_predictions = loaded_model.predict(test_seq)[0][0]\n",
        "print(binary_predictions)\n",
        "\n",
        "# Print the result\n",
        "if binary_predictions > threshold:\n",
        "    print(\"POSITIVE\")\n",
        "else:\n",
        "    print(\"NEGATIVE\")"
      ]
    }
  ],
  "metadata": {
    "colab": {
      "provenance": []
    },
    "kernelspec": {
      "display_name": "Python 3",
      "language": "python",
      "name": "python3"
    },
    "language_info": {
      "codemirror_mode": {
        "name": "ipython",
        "version": 3
      },
      "file_extension": ".py",
      "mimetype": "text/x-python",
      "name": "python",
      "nbconvert_exporter": "python",
      "pygments_lexer": "ipython3",
      "version": "3.10.10"
    }
  },
  "nbformat": 4,
  "nbformat_minor": 0
}
